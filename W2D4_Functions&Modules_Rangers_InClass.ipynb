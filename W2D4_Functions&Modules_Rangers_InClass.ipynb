{
 "cells": [
  {
   "cell_type": "markdown",
   "metadata": {},
   "source": [
    "# User-Defined Functions & Scoping"
   ]
  },
  {
   "cell_type": "markdown",
   "metadata": {},
   "source": [
    "## Tasks Today:\n",
    "\n",
    "\n",
    "1) Functions <br>\n",
    " &nbsp;&nbsp;&nbsp;&nbsp; a) User-Defined vs. Built-In Functions <br>\n",
    " &nbsp;&nbsp;&nbsp;&nbsp; b) Accepting Parameters <br>\n",
    " &nbsp;&nbsp;&nbsp;&nbsp; c) Default Parameters <br>\n",
    " &nbsp;&nbsp;&nbsp;&nbsp; d) Making an Argument Optional <br>\n",
    " &nbsp;&nbsp;&nbsp;&nbsp; e) Keyword Arguments <br>\n",
    " &nbsp;&nbsp;&nbsp;&nbsp; f) Returning Values <br>\n",
    " &nbsp;&nbsp;&nbsp;&nbsp; g) *args <br>\n",
    " &nbsp;&nbsp;&nbsp;&nbsp; h) Docstring <br>\n",
    " &nbsp;&nbsp;&nbsp;&nbsp; i) Using a User Function in a Loop <br>\n",
    "2) Scope\n",
    "3) Creating more User-Defined functions \n",
    "4) Modules <br>\n",
    " &nbsp;&nbsp;&nbsp;&nbsp; a) Importing Entire Modules <br>\n",
    " &nbsp;&nbsp;&nbsp;&nbsp; b) Importing Methods Only <br>\n",
    " &nbsp;&nbsp;&nbsp;&nbsp; c) Using the 'as' Keyword <br>\n",
    " &nbsp;&nbsp;&nbsp;&nbsp; d) Creating a Module <br>"
   ]
  },
  {
   "cell_type": "markdown",
   "metadata": {},
   "source": [
    "\n",
    "## Functions"
   ]
  },
  {
   "cell_type": "markdown",
   "metadata": {},
   "source": [
    "##### User-Defined vs. Built-In Functions"
   ]
  },
  {
   "cell_type": "code",
   "execution_count": 6,
   "metadata": {},
   "outputs": [
    {
     "name": "stdout",
     "output_type": "stream",
     "text": [
      "Hello\n",
      "<function say_hello at 0x10647b6a0>\n",
      "Hello\n",
      "None\n",
      "Hello\n"
     ]
    }
   ],
   "source": [
    "#built-in functions\n",
    "\n",
    "#syntax function_name()\n",
    "\n",
    "#print()\n",
    "#max()\n",
    "#min()\n",
    "#len()\n",
    "#sum()\n",
    "\n",
    "#User defined functions\n",
    "\n",
    "def say_hello():\n",
    "    print('Hello')\n",
    "\n",
    "#calling upon our function\n",
    "say_hello() #when calling apon a function you always need those parenthesis\n",
    "\n",
    "print(say_hello) #no parenthesis will not call the function \n",
    "\n",
    "def say_hello_again():\n",
    "    hello = say_hello()\n",
    "    print(hello) #this will return none after printing hello\n",
    "\n",
    "say_hello_again()\n",
    "#to fix this us return instead of print()\n",
    "def say_hello_again():\n",
    "    hello = say_hello()\n",
    "    return hello #return function gives your function tangible value unlike print()\n",
    "\n",
    "say_hello_again()\n",
    "\n",
    "\n"
   ]
  },
  {
   "cell_type": "markdown",
   "metadata": {},
   "source": [
    "##### Accepting Parameters"
   ]
  },
  {
   "cell_type": "code",
   "execution_count": 8,
   "metadata": {
    "scrolled": true
   },
   "outputs": [
    {
     "name": "stdout",
     "output_type": "stream",
     "text": [
      "Rangers 127 are really cool\n",
      "The Dog is very fluffy and its fast\n"
     ]
    }
   ],
   "source": [
    "# elements passed into a function\n",
    "# variables to hold the place of items our function will act upon\n",
    "# order matters\n",
    "# a parameter can be of any object type (data type)\n",
    "                    #parameter\n",
    "def return_something(something): #variable holding the place of actual data in the future\n",
    "    return something \n",
    "                            #argument\n",
    "print( return_something('Rangers 127 are really cool')) #this is the argumnet, what im actually bringing on the plan\n",
    "\n",
    "def make_sentence(noun, adjective, verb):\n",
    "    return f\"The {noun} is very {adjective} and its {verb}\" #order of using parameters inside function does not matter,\n",
    "                                                            #its based on variable names!\n",
    "\n",
    "print(make_sentence('Dog', 'fluffy', 'fast')) #order of replacing parameters with arguments matters!\n"
   ]
  },
  {
   "cell_type": "markdown",
   "metadata": {},
   "source": [
    "##### Default Parameters"
   ]
  },
  {
   "cell_type": "code",
   "execution_count": 13,
   "metadata": {},
   "outputs": [
    {
     "name": "stdout",
     "output_type": "stream",
     "text": [
      "The name is James.....James Bond\n"
     ]
    }
   ],
   "source": [
    "# default parameters must always come after non-default parameters at all times forever and ever...or else\n",
    "\n",
    "#what denotes a default or an optional parameter is the = sign\n",
    "\n",
    "def agent_name(first_name, last_name = 'Nico'):\n",
    "\n",
    "    return f'The name is {first_name}.....{first_name} {last_name}'\n",
    "\n",
    "print(agent_name('James', 'Bond'))"
   ]
  },
  {
   "cell_type": "code",
   "execution_count": 16,
   "metadata": {},
   "outputs": [
    {
     "name": "stdout",
     "output_type": "stream",
     "text": [
      "The name is Devante.....Devante Rose\n",
      "Brenden your birthday is 25 September 1996\n"
     ]
    }
   ],
   "source": [
    "# default parameters must always come after non-default parameters at all times forever and ever...or else\n",
    "\n",
    "print(agent_name(last_name = 'Rose', first_name = 'Devante'))\n",
    "\n",
    "def birthday_month(name, day, month, year = 2023):\n",
    "    return f\"{name} your birthday is {day} {month} {year}\"\n",
    "\n",
    "print(birthday_month('Brenden', 25, 'September', 1996))\n"
   ]
  },
  {
   "cell_type": "markdown",
   "metadata": {},
   "source": [
    "##### Making an Argument Optional"
   ]
  },
  {
   "cell_type": "code",
   "execution_count": 22,
   "metadata": {},
   "outputs": [
    {
     "name": "stdout",
     "output_type": "stream",
     "text": [
      "My horse's name is Mr.  Ed\n",
      "My horse's name is Mr. Horsey Ed\n",
      "My horse's name is Mr. Horsey Horse\n"
     ]
    }
   ],
   "source": [
    "\n",
    "            #positional parameter   #optional     #default\n",
    "def print_horse_name(first, middle = \"\", last = \"Ed\"):\n",
    "\n",
    "    return f\"My horse's name is {first} {middle} {last}\"\n",
    "\n",
    "print(print_horse_name(\"Mr.\"))\n",
    "\n",
    "def print_horse_name(first, middle = \"\", last = \"Ed\"):\n",
    "\n",
    "    return f\"My horse's name is {first} {middle} {last}\"\n",
    "\n",
    "print(print_horse_name(\"Mr.\", \"Horsey\"))\n",
    "\n",
    "def print_horse_name(first, middle = \"\", last = \"Ed\"):\n",
    "\n",
    "    return f\"My horse's name is {first} {middle} {last}\"\n",
    "\n",
    "print(print_horse_name(\"Mr.\", \"Horsey\", \"Horse\"))"
   ]
  },
  {
   "cell_type": "markdown",
   "metadata": {},
   "source": [
    "##### Keyword Arguments"
   ]
  },
  {
   "cell_type": "code",
   "execution_count": 23,
   "metadata": {},
   "outputs": [
    {
     "name": "stdout",
     "output_type": "stream",
     "text": [
      "Nico's super power is luck and their secret identity is being exposed and is Nico Cage\n"
     ]
    }
   ],
   "source": [
    "#keyword arguments must follow positional arugments\n",
    "\n",
    "def print_hero(name, secret_identity, power = 'flying'):\n",
    "    return f\"{name}'s super power is {power} and their secret identity is being exposed and is {secret_identity}\"\n",
    "\n",
    "print(print_hero(power = 'luck', name = 'Nico', secret_identity = 'Nico Cage'))"
   ]
  },
  {
   "cell_type": "markdown",
   "metadata": {},
   "source": [
    "# Creating a start, stop, step function"
   ]
  },
  {
   "cell_type": "code",
   "execution_count": 29,
   "metadata": {
    "scrolled": true
   },
   "outputs": [
    {
     "name": "stdout",
     "output_type": "stream",
     "text": [
      "0\n",
      "2\n",
      "4\n",
      "6\n",
      "8\n",
      "[0, 2, 4, 6, 8]\n"
     ]
    }
   ],
   "source": [
    "\n",
    "def my_range(stop, start = 0 , step = 1):\n",
    "\n",
    "    my_list = []\n",
    "    for i in range(start, stop, step):\n",
    "        print(i)\n",
    "        my_list.append(i)\n",
    "\n",
    "    return(my_list)\n",
    "\n",
    "print(my_range(10, step = 2))"
   ]
  },
  {
   "cell_type": "markdown",
   "metadata": {},
   "source": [
    "##### Returning Values"
   ]
  },
  {
   "cell_type": "code",
   "execution_count": 35,
   "metadata": {},
   "outputs": [],
   "source": [
    "poke_list = ['Charmander', 'Ditto', 'Evee', 'Pikachu', 'Squirtle']\n",
    "\n",
    "def find_bulbasaur(arr):\n",
    "\n",
    "    for value in arr:\n",
    "        if value == 'Bulbasaur':\n",
    "            return \"Bulba Bulba\"\n",
    "\n",
    "    return \"No Bulbasaur here\" #location of return is important, once return is hit in finction your function stops running\n",
    "\n"
   ]
  },
  {
   "cell_type": "code",
   "execution_count": 36,
   "metadata": {},
   "outputs": [
    {
     "name": "stdout",
     "output_type": "stream",
     "text": [
      "Oh no looks like you didin't catch Bulbasaur :(\n"
     ]
    }
   ],
   "source": [
    "\n",
    "def is_bulbasaur(string):\n",
    "    if string == \"Bulba Bulba\":\n",
    "        return \"We found Bulbasaur!!!\"\n",
    "\n",
    "    return \"Oh no looks like you didin't catch Bulbasaur :(\"\n",
    "\n",
    "print(is_bulbasaur(find_bulbasaur(poke_list)))"
   ]
  },
  {
   "cell_type": "markdown",
   "metadata": {},
   "source": [
    "##### *args / **kwargs (keyword arguments)"
   ]
  },
  {
   "cell_type": "code",
   "execution_count": 38,
   "metadata": {},
   "outputs": [],
   "source": [
    "#*args, **kwargs\n",
    "# *args stands for arguments and will allow the function to take in any number of arguments\n",
    "# **kwargs stands for key word arguments and will allow the function to take in any number of keyword arguments\n",
    "# if other parameters are present, args and kwarfs must go last\n",
    "\n",
    "#def print_args_Kwargs(num1, num2, *nums, **people):\n",
    "\n",
    "    #print(f\"There are our positional arguments: {num1, num2}\")\n",
    "    #print(f\"These are our *args: {nums}\")\n",
    "    #print(f\"These are our **kwargs: {people}\")\n",
    "\n",
    "#print_args_kwargs(1, 2, 5, 7, 8, 10, 23, personal1 = 'Jason', person2 = 'Priscilla', person3 = 'Leza')\n"
   ]
  },
  {
   "cell_type": "code",
   "execution_count": 39,
   "metadata": {},
   "outputs": [
    {
     "name": "stdout",
     "output_type": "stream",
     "text": [
      "{1: 'Milk', 2: 'Cheese', 3: 'Lactaid'}\n"
     ]
    }
   ],
   "source": [
    "shopping_cart = {\n",
    "    1 : 'Milk',\n",
    "    2 : 'Cheese',\n",
    "    3 : 'Lactaid',\n",
    "}\n",
    "\n",
    "print(shopping_cart)"
   ]
  },
  {
   "cell_type": "markdown",
   "metadata": {},
   "source": [
    "##### Docstring"
   ]
  },
  {
   "cell_type": "code",
   "execution_count": 40,
   "metadata": {},
   "outputs": [
    {
     "name": "stdout",
     "output_type": "stream",
     "text": [
      "Jeremy\n",
      "Devante\n",
      "Luis\n",
      "Nico\n",
      "Help on function print_name in module __main__:\n",
      "\n",
      "print_name(arr)\n",
      "    print_names(arr)\n",
      "    Function that takes in an list as an argument.\n",
      "    It will print the cintents of the list seperately.\n",
      "    It is expected that the list contains all strings to be passed in.\n",
      "\n"
     ]
    }
   ],
   "source": [
    "# docstrings are a really nice way to leave notes about funciontality in your code\n",
    "# provide instructions\n",
    "\n",
    "def print_name(arr):\n",
    "\n",
    "    \"\"\"\n",
    "    print_names(arr)\n",
    "    Function that takes in an list as an argument.\n",
    "    It will print the cintents of the list seperately.\n",
    "    It is expected that the list contains all strings to be passed in.\n",
    "\n",
    "    \"\"\"\n",
    "    for name in arr:\n",
    "        print(name)\n",
    "\n",
    "\n",
    "print_name(['Jeremy', 'Devante', 'Luis', 'Nico'])\n",
    "\n",
    "help(print_name)"
   ]
  },
  {
   "cell_type": "markdown",
   "metadata": {},
   "source": [
    "##### Using a User Function in a Loop"
   ]
  },
  {
   "cell_type": "code",
   "execution_count": 47,
   "metadata": {},
   "outputs": [
    {
     "name": "stdin",
     "output_type": "stream",
     "text": [
      "What's going on? hello\n"
     ]
    },
    {
     "name": "stdout",
     "output_type": "stream",
     "text": [
      "I say heeeeeeey (['hello'],)\n"
     ]
    },
    {
     "name": "stdin",
     "output_type": "stream",
     "text": [
      "Are you ready to quit? yes\n"
     ]
    }
   ],
   "source": [
    "\n",
    "def print_input(*answer):\n",
    "    print(f\"I say heeeeeeey {answer}\")\n",
    "\n",
    "while True:\n",
    "    ask = input(\"What's going on?\").split()\n",
    "\n",
    "    print_input(ask)\n",
    "\n",
    "    response = input(\"Are you ready to quit?\").lower()\n",
    "\n",
    "    if response in {'yes', 'y', 'quit', 'please', 'resign'}:\n",
    "        break"
   ]
  },
  {
   "cell_type": "code",
   "execution_count": null,
   "metadata": {
    "scrolled": true
   },
   "outputs": [],
   "source": []
  },
  {
   "cell_type": "code",
   "execution_count": null,
   "metadata": {},
   "outputs": [],
   "source": []
  },
  {
   "cell_type": "markdown",
   "metadata": {},
   "source": [
    "## Function Exercises <br>\n",
    "### Exercise 1\n",
    "<p>Write a function that loops through a list of first_names and a list of last_names, combines the two and return a list of full_names</p>"
   ]
  },
  {
   "cell_type": "code",
   "execution_count": null,
   "metadata": {},
   "outputs": [],
   "source": []
  },
  {
   "cell_type": "code",
   "execution_count": 88,
   "metadata": {},
   "outputs": [
    {
     "name": "stdout",
     "output_type": "stream",
     "text": [
      "['John Smith', 'Evan Smith', 'Jordan Williams', 'Max Bell']\n",
      "[0, 10, 20, 30, -4]\n"
     ]
    }
   ],
   "source": [
    "first_name = ['John', 'Evan', 'Jordan', 'Max', \"James\"]\n",
    "last_name = ['Smith', 'Smith', 'Williams', 'Bell']\n",
    "\n",
    "#def full_name(stop, start = 0, step = 1):\n",
    "   # list = []\n",
    "   # for fname in first_name:\n",
    "   #     list += fname\n",
    "    #    for lname in last_name:\n",
    "    #        list += lname\n",
    "    #        print(f\"{fname} {lname}\")\n",
    "    \n",
    "\n",
    "#print(full_name(0, step = 1))\n",
    "\n",
    "# Output: ['John Smith', 'Evan Smith', 'Jordan Williams', 'Max Bell']\n",
    "\n",
    "\n",
    "def comb_names():\n",
    "    \n",
    "    first_name = ['John', 'Evan', 'Jordan', 'Max', \"James\"]\n",
    "    last_name = ['Smith', 'Smith', 'Williams', 'Bell']\n",
    "\n",
    "    full_names=[]\n",
    "\n",
    "    for i,name in enumerate(last_name):\n",
    "        full_names.append(f\"{first_name[i]} {name}\")\n",
    "\n",
    "    return full_names\n",
    "\n",
    "print(comb_names())\n",
    "\n",
    "\n",
    "def alter():\n",
    "    input_list = [5,10,15,20,3]\n",
    "    output = []\n",
    "    for num in input_list:\n",
    "        output.append((num-5)*2)\n",
    "    return output\n",
    "print(alter())\n"
   ]
  },
  {
   "cell_type": "code",
   "execution_count": 89,
   "metadata": {},
   "outputs": [],
   "source": [
    "def full_names(first_names, last_names):\n",
    "    return [(first_names[i] + ' ' + last_names[i]) for i in range(min(len(first_names),len(last_names))) ]\n"
   ]
  },
  {
   "cell_type": "code",
   "execution_count": null,
   "metadata": {},
   "outputs": [],
   "source": []
  },
  {
   "cell_type": "markdown",
   "metadata": {},
   "source": [
    "### Exercise 2\n",
    "Create a function that alters all values in the given list by subtracting 5 and then doubling them."
   ]
  },
  {
   "cell_type": "code",
   "execution_count": 116,
   "metadata": {},
   "outputs": [
    {
     "name": "stdout",
     "output_type": "stream",
     "text": [
      "[0, 10, 20, 30, -4]\n"
     ]
    }
   ],
   "source": [
    "my_list = [5,10,15,20,3]\n",
    "# output = [0,10,20,30,-4]\n",
    "\n",
    "def alter(input_list):\n",
    "    output = []\n",
    "    for num in input_list:\n",
    "        output.append((num-5)*2)\n",
    "    return output\n",
    "print(alter(my_list))"
   ]
  },
  {
   "cell_type": "markdown",
   "metadata": {},
   "source": [
    "### Exercise 3\n",
    "Create a function that takes in a list of strings and filters out the strings that DO NOT contain vowels. "
   ]
  },
  {
   "cell_type": "code",
   "execution_count": 123,
   "metadata": {},
   "outputs": [
    {
     "name": "stdout",
     "output_type": "stream",
     "text": [
      "Sheldon\n"
     ]
    },
    {
     "ename": "AttributeError",
     "evalue": "'str' object has no attribute 'add'",
     "output_type": "error",
     "traceback": [
      "\u001b[0;31m---------------------------------------------------------------------------\u001b[0m",
      "\u001b[0;31mAttributeError\u001b[0m                            Traceback (most recent call last)",
      "Cell \u001b[0;32mIn[123], line 18\u001b[0m\n\u001b[1;32m     14\u001b[0m                 \u001b[38;5;28;01mbreak\u001b[39;00m\n\u001b[1;32m     16\u001b[0m     \u001b[38;5;28;01mreturn\u001b[39;00m \u001b[38;5;28mlist\u001b[39m(result)\n\u001b[0;32m---> 18\u001b[0m \u001b[43mfilter_vowels\u001b[49m\u001b[43m(\u001b[49m\u001b[43mstring_list\u001b[49m\u001b[43m)\u001b[49m\n",
      "Cell \u001b[0;32mIn[123], line 13\u001b[0m, in \u001b[0;36mfilter_vowels\u001b[0;34m(arr)\u001b[0m\n\u001b[1;32m     11\u001b[0m     \u001b[38;5;28;01mfor\u001b[39;00m letter \u001b[38;5;129;01min\u001b[39;00m name:\n\u001b[1;32m     12\u001b[0m         \u001b[38;5;28;01mif\u001b[39;00m letter\u001b[38;5;241m.\u001b[39mlower() \u001b[38;5;129;01min\u001b[39;00m vowels:\n\u001b[0;32m---> 13\u001b[0m             \u001b[43mletter\u001b[49m\u001b[38;5;241;43m.\u001b[39;49m\u001b[43madd\u001b[49m(name)\n\u001b[1;32m     14\u001b[0m             \u001b[38;5;28;01mbreak\u001b[39;00m\n\u001b[1;32m     16\u001b[0m \u001b[38;5;28;01mreturn\u001b[39;00m \u001b[38;5;28mlist\u001b[39m(result)\n",
      "\u001b[0;31mAttributeError\u001b[0m: 'str' object has no attribute 'add'"
     ]
    }
   ],
   "source": [
    "string_list = ['Sheldon','Pnny','Leonard','Hwrd','Rj','Amy','Strt']\n",
    "# output = ['Sheldon','Leonard','Amy']\n",
    "\n",
    "def filter_vowels(arr):\n",
    "    result = set()\n",
    "    vowels = set(['a', 'e', 'i', 'o', 'u'])\n",
    "\n",
    "\n",
    "    for name in arr:\n",
    "        print(name)\n",
    "        for letter in name:\n",
    "            if letter.lower() in vowels:\n",
    "                letter.add(name)\n",
    "                break\n",
    "\n",
    "    return list(result)\n",
    "\n",
    "filter_vowels(string_list)\n",
    "\n",
    "\n"
   ]
  },
  {
   "cell_type": "code",
   "execution_count": 124,
   "metadata": {},
   "outputs": [
    {
     "name": "stdout",
     "output_type": "stream",
     "text": [
      "['Sheldon', 'Leonard', 'Amy']\n"
     ]
    }
   ],
   "source": [
    "def no_vowels():\n",
    "    string_list = ['Sheldon','Pnny','Leonard','Hwrd','Rj','Amy','Strt']\n",
    "    output = []\n",
    "    vowels=set({'a','A','e','E','i','I','o','O','u','U'})\n",
    "    for name in string_list:\n",
    "        if any([c for c in name if c in vowels]): \n",
    "            output.append(name)\n",
    "    return output\n",
    "\n",
    "print(no_vowels())"
   ]
  },
  {
   "cell_type": "code",
   "execution_count": null,
   "metadata": {},
   "outputs": [],
   "source": []
  },
  {
   "cell_type": "markdown",
   "metadata": {},
   "source": [
    "### Exercise 4\n",
    "Create a function that accepts a list as a parameter and returns a dictionary containing the list items as it's keys, and the number of times they appear in the list as the values"
   ]
  },
  {
   "cell_type": "code",
   "execution_count": 127,
   "metadata": {},
   "outputs": [
    {
     "data": {
      "text/plain": [
       "{'Harry': 3, 'Hermione': 2, 'Ron': 4, 'Dobby': 1, 'Draco': 1, 'Luna': 1}"
      ]
     },
     "execution_count": 127,
     "metadata": {},
     "output_type": "execute_result"
    }
   ],
   "source": [
    "example_list = [\"Harry\", 'Hermione','Harry','Ron','Dobby','Draco','Luna','Harry','Hermione','Ron','Ron','Ron']\n",
    "\n",
    "# output = {\n",
    "#     \"Harry\":3,\n",
    "#     \"Hermione\":2,\n",
    "#     \"Ron\":4,\n",
    "#     \"Dobby\":1,\n",
    "#     \"Draco\":1,\n",
    "#     \"Luna\": 1\n",
    "# }\n",
    "\n",
    "#counter dictionary!!! Remember this!!!!\n",
    "\n",
    "def potter_counter(arr):\n",
    "    potter_dict = {}\n",
    "\n",
    "    for name in arr:\n",
    "        if name in potter_dict:\n",
    "            potter_dict[name] += 1\n",
    "        else:\n",
    "            potter_dict[name] = 1\n",
    "\n",
    "    return potter_dict\n",
    "\n",
    "potter_counter(example_list)\n",
    "\n"
   ]
  },
  {
   "cell_type": "markdown",
   "metadata": {},
   "source": [
    "\n",
    "\n",
    "## Scope <br>\n",
    "<p>Scope refers to the ability to access variables, different types of scope include:<br>a) Global<br>b) Function (local)<br>c) Class (local)</p>"
   ]
  },
  {
   "cell_type": "code",
   "execution_count": 56,
   "metadata": {},
   "outputs": [
    {
     "name": "stdout",
     "output_type": "stream",
     "text": [
      "3\n",
      "3\n",
      "11\n",
      "13\n"
     ]
    }
   ],
   "source": [
    "# placement of variable declaration matters\n",
    "number = 3\n",
    "\n",
    "def return_num(num):\n",
    "    new_num = num + 1 #locally scoped variable (aka only available inside the fucntion is was created in, or if it gets passed inside another function via a function call)\n",
    "    print(number)\n",
    "    print(new_num) #this works because it has access to local variable\n",
    "    global global_num\n",
    "    global_num = num + 3\n",
    "\n",
    "print(number)\n",
    "return_num(10)\n",
    "#return_num()\n",
    "print(global_num)\n"
   ]
  },
  {
   "cell_type": "markdown",
   "metadata": {},
   "source": [
    "## Modules"
   ]
  },
  {
   "cell_type": "markdown",
   "metadata": {},
   "source": [
    "##### Importing Entire Modules\n"
   ]
  },
  {
   "cell_type": "code",
   "execution_count": 57,
   "metadata": {},
   "outputs": [
    {
     "name": "stdout",
     "output_type": "stream",
     "text": [
      "3.141592653589793\n",
      "3\n",
      "2\n"
     ]
    }
   ],
   "source": [
    "## Modules\n",
    "\n",
    "import math #module we have access to in python\n",
    "\n",
    "print(math.pi)\n",
    "\n",
    "num = 5\n",
    "num2 = 2\n",
    "num3 = math.ceil(5/2) #5/2 == 2.5 BUT .ceil() rounds up to 3\n",
    "\n",
    "print(num3)\n",
    "\n",
    "num4 = 5 // 2 # rounds down to 2\n",
    "\n",
    "print(num4)\n",
    "\n"
   ]
  },
  {
   "cell_type": "markdown",
   "metadata": {},
   "source": [
    "##### Importing Methods Only"
   ]
  },
  {
   "cell_type": "code",
   "execution_count": 58,
   "metadata": {},
   "outputs": [
    {
     "name": "stdout",
     "output_type": "stream",
     "text": [
      "3.141592653589793\n",
      "4\n"
     ]
    }
   ],
   "source": [
    "# from xxx import yyy\n",
    "#from math import floor\n",
    "\n",
    "from math import pi, ceil\n",
    "print(pi)\n",
    "\n",
    "print(ceil(3.89))"
   ]
  },
  {
   "cell_type": "markdown",
   "metadata": {},
   "source": [
    "##### Using the 'as' Keyword"
   ]
  },
  {
   "cell_type": "code",
   "execution_count": 59,
   "metadata": {},
   "outputs": [
    {
     "name": "stdout",
     "output_type": "stream",
     "text": [
      "2\n"
     ]
    }
   ],
   "source": [
    "# from xxx import yyy as z\n",
    "\n",
    "from math import floor as fl, ceil as cl\n",
    "\n",
    "print(fl(2.5))"
   ]
  },
  {
   "cell_type": "markdown",
   "metadata": {},
   "source": [
    "##### Creating a Module"
   ]
  },
  {
   "cell_type": "code",
   "execution_count": 62,
   "metadata": {},
   "outputs": [
    {
     "name": "stdout",
     "output_type": "stream",
     "text": [
      "Hello Mr/Ms Alex...we've been waiting for you!\n"
     ]
    }
   ],
   "source": [
    "from module import printName as pn\n",
    "    #module name    #function name\n",
    " \n",
    "pn('Alex')\n"
   ]
  },
  {
   "cell_type": "code",
   "execution_count": 61,
   "metadata": {},
   "outputs": [
    {
     "name": "stdout",
     "output_type": "stream",
     "text": [
      "Hello Mr/Ms Jason...we've been waiting for you!\n"
     ]
    }
   ],
   "source": [
    "import module\n",
    "\n",
    "module.printName('Jason')"
   ]
  },
  {
   "cell_type": "code",
   "execution_count": 33,
   "metadata": {},
   "outputs": [
    {
     "name": "stdout",
     "output_type": "stream",
     "text": [
      "20\n",
      "12.566370614359172\n"
     ]
    }
   ],
   "source": [
    "import math\n",
    "\n",
    "def square_foot(length, width):\n",
    "    area = length * width\n",
    "    print(area)\n",
    "\n",
    "square_foot(4, 5)\n",
    "\n",
    "def circumference(r):\n",
    "    c = 2 * math.pi * r\n",
    "    print(c)\n",
    "\n",
    "circumference(2)\n"
   ]
  },
  {
   "cell_type": "markdown",
   "metadata": {},
   "source": [
    "# Homework Exercises"
   ]
  },
  {
   "cell_type": "markdown",
   "metadata": {},
   "source": [
    "### 1) Create a Module in VS Code and Import It into jupyter notebook <br>\n",
    "<p><b>Module should have the following capabilities:</b><br><br>\n",
    "1a) Has a function to calculate the square footage of a house <br>\n",
    "    <b>Reminder of Formula: Length X Width == Area</b><br>\n",
    "        <hr>\n",
    "1b) Has a function to calculate the circumference of a circle 2 Pi r <br><br>\n",
    "<b>Program in Jupyter Notebook should take in user input and use imported functions to calculate a circle's circumference or a houses square footage</b>\n",
    "</p>"
   ]
  },
  {
   "cell_type": "code",
   "execution_count": 1,
   "metadata": {},
   "outputs": [
    {
     "name": "stdout",
     "output_type": "stream",
     "text": [
      "Want to find the square footage of a house?\n"
     ]
    },
    {
     "name": "stdin",
     "output_type": "stream",
     "text": [
      "What is the length of the house?:  4\n",
      "What is the width of the house?:  5\n"
     ]
    },
    {
     "name": "stdout",
     "output_type": "stream",
     "text": [
      "20\n",
      "Want to find the circumference of a circle?\n"
     ]
    },
    {
     "name": "stdin",
     "output_type": "stream",
     "text": [
      "What is the radius of the circle?  2\n"
     ]
    },
    {
     "name": "stdout",
     "output_type": "stream",
     "text": [
      "12.566370614359172\n"
     ]
    }
   ],
   "source": [
    "import module\n",
    "\n",
    "print(\"Want to find the square footage of a house?\")\n",
    "length = int(input(\"What is the length of the house?: \"))\n",
    "width = int(input(\"What is the width of the house?: \"))\n",
    "\n",
    "module.square_foot(length, width)\n",
    "\n",
    "print(\"Want to find the circumference of a circle?\")\n",
    "radius = float(input(\"What is the radius of the circle? \"))\n",
    "\n",
    "module.circumference(radius)\n",
    "\n",
    "\n"
   ]
  },
  {
   "cell_type": "markdown",
   "metadata": {},
   "source": [
    "### 2) Build a Shopping Cart Function <br>\n",
    "<p><b>You can use either lists or dictionaries. The program should have the following capabilities:</b><br><br>\n",
    "1) Takes in input <br>\n",
    "2) Stores user input into a dictionary or list <br>\n",
    "3) The User can add or delete items <br>\n",
    "4) The User can see current shopping list <br>\n",
    "5) The program Loops until user 'quits' <br>\n",
    "6) Upon quiting the program, print out all items in the user's list <br>\n",
    "</p>"
   ]
  },
  {
   "cell_type": "code",
   "execution_count": 38,
   "metadata": {},
   "outputs": [
    {
     "name": "stdin",
     "output_type": "stream",
     "text": [
      "Do you want to : Show/Add/Delete or Quit?:  quit\n"
     ]
    },
    {
     "name": "stdout",
     "output_type": "stream",
     "text": [
      "[]\n"
     ]
    }
   ],
   "source": [
    "\n",
    "def shopping_cart():\n",
    "    list = []\n",
    "    while True:\n",
    "        user = input(\"Do you want to : Show/Add/Delete or Quit?: \").lower()\n",
    "    \n",
    "        if user == \"show\":\n",
    "            print(list)\n",
    "        elif user == \"add\":\n",
    "            item = input(\"What would you like to add to your Shopping Cart?: \").lower()\n",
    "            list.append(item)\n",
    "        elif user == \"delete\":\n",
    "            list.remove(input(\"What would you like to delete from your Shopping Cart?: \").lower())\n",
    "        elif user == \"quit\":\n",
    "            print(list)\n",
    "            break\n",
    "        else:\n",
    "            print(\"Invalid response, please input the following (Show/Add/Delete or Quit)\")\n",
    "\n",
    "shopping_cart()"
   ]
  },
  {
   "cell_type": "code",
   "execution_count": null,
   "metadata": {},
   "outputs": [],
   "source": []
  }
 ],
 "metadata": {
  "kernelspec": {
   "display_name": "Python 3 (ipykernel)",
   "language": "python",
   "name": "python3"
  },
  "language_info": {
   "codemirror_mode": {
    "name": "ipython",
    "version": 3
   },
   "file_extension": ".py",
   "mimetype": "text/x-python",
   "name": "python",
   "nbconvert_exporter": "python",
   "pygments_lexer": "ipython3",
   "version": "3.11.4"
  }
 },
 "nbformat": 4,
 "nbformat_minor": 4
}
